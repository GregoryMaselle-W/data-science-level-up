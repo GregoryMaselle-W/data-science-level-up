{
 "cells": [
  {
   "cell_type": "markdown",
   "id": "2e588aa1",
   "metadata": {},
   "source": [
    "VS Code natively supports displaying and editing notebook files. It does not natively support running them, lol.\n",
    "You need to:\n",
    "\n",
    "1. Go to the extensions and install the 'Jupyter' extension.\n",
    "2. Choose a python runtime. You can do this by clicking choosing a run time in the top right of this file in VS Code, or you can try running a cell and it will ask you to select a run time. If you have python installed already this step is chilled. \n",
    "\n",
    "You can run individual cells or you can run all (at the top of the window). Before you run a code cell, make sure that the language is set to python. In this block you'll see it says markdown, since its a 'markdown file'. Similarly, you'll see one for the code block. Set it to python, it will add all the nice coloring and allow you to run your code block.\n",
    "\n",
    "When you run the code block, it will likely shout at you telling you to install a package first. I can't remember what it's called but yes, please install the package. It installs a bunch of packages that are needed by ipynb files."
   ]
  },
  {
   "cell_type": "code",
   "execution_count": 1,
   "id": "831d7461",
   "metadata": {},
   "outputs": [
    {
     "name": "stdout",
     "output_type": "stream",
     "text": [
      "This is working!!!!\n"
     ]
    }
   ],
   "source": [
    "print(\"This is working!!!!\")"
   ]
  }
 ],
 "metadata": {
  "kernelspec": {
   "display_name": "Python 3",
   "language": "python",
   "name": "python3"
  },
  "language_info": {
   "codemirror_mode": {
    "name": "ipython",
    "version": 3
   },
   "file_extension": ".py",
   "mimetype": "text/x-python",
   "name": "python",
   "nbconvert_exporter": "python",
   "pygments_lexer": "ipython3",
   "version": "3.13.3"
  }
 },
 "nbformat": 4,
 "nbformat_minor": 5
}
